{
 "cells": [
  {
   "cell_type": "code",
   "execution_count": 1,
   "metadata": {
    "tags": []
   },
   "outputs": [],
   "source": [
    "import tensorflow as tf\n",
    "from tensorflow import keras\n",
    "from sklearn.preprocessing import StandardScaler\n",
    "import numpy as np\n",
    "from sklearn.ensemble import RandomForestClassifier\n",
    "from models import FlatNetwork, ConvNetwork, CombiModel\n",
    "import sys\n",
    "import pandas as pd\n",
    "import json\n",
    "\n",
    "def brier_score(preds, true):\n",
    "    sum_score = 0\n",
    "    for i in range(len(preds)):\n",
    "        p = preds[i]\n",
    "        t = true[i]\n",
    "        sum_score += np.sum([(p[x]-t[x])**2 for x in range(len(p))])\n",
    "    return sum_score/len(preds)\n",
    "\n",
    "def create_dataset(xs, ys, n_classes):\n",
    "  ys = tf.one_hot(ys, depth=n_classes)\n",
    "  return tf.data.Dataset.from_tensor_slices((xs, ys)) \\\n",
    "    .shuffle(len(ys)) \\\n",
    "    .batch(128)"
   ]
  },
  {
   "cell_type": "code",
   "execution_count": 8,
   "metadata": {
    "tags": []
   },
   "outputs": [
    {
     "name": "stdout",
     "output_type": "stream",
     "text": [
      "[]\n",
      "['2016/2017']\n",
      "---- test\n",
      "England Premier League\n",
      "Season:       season\n",
      "0  2008/2009\n",
      "1  2009/2010\n",
      "2  2010/2011\n",
      "3  2011/2012\n",
      "4  2012/2013\n",
      "5  2013/2014\n",
      "6  2014/2015\n",
      "7  2015/2016\n",
      "Season not found\n",
      "Season not found\n",
      "Season not found\n",
      "Season not found\n",
      "Season not found\n",
      "Season not found\n",
      "Season not found\n",
      "Season not found\n"
     ]
    },
    {
     "ename": "ValueError",
     "evalue": "need at least one array to concatenate",
     "output_type": "error",
     "traceback": [
      "\u001b[0;31m---------------------------------------------------------------------------\u001b[0m",
      "\u001b[0;31mValueError\u001b[0m                                Traceback (most recent call last)",
      "\u001b[0;32m<ipython-input-8-9633e8b6b472>\u001b[0m in \u001b[0;36m<module>\u001b[0;34m\u001b[0m\n\u001b[1;32m     13\u001b[0m \u001b[0;34m\u001b[0m\u001b[0m\n\u001b[1;32m     14\u001b[0m \u001b[0mdata_handler\u001b[0m \u001b[0;34m=\u001b[0m \u001b[0mDataManager\u001b[0m\u001b[0;34m(\u001b[0m\u001b[0;34m)\u001b[0m\u001b[0;34m\u001b[0m\u001b[0;34m\u001b[0m\u001b[0m\n\u001b[0;32m---> 15\u001b[0;31m \u001b[0mtrain_x\u001b[0m\u001b[0;34m,\u001b[0m \u001b[0mtrain_y\u001b[0m\u001b[0;34m,\u001b[0m \u001b[0mtrain_odds\u001b[0m\u001b[0;34m,\u001b[0m \u001b[0mtrain_teams\u001b[0m \u001b[0;34m=\u001b[0m \u001b[0mdata_handler\u001b[0m\u001b[0;34m.\u001b[0m\u001b[0mbuildData\u001b[0m\u001b[0;34m(\u001b[0m\u001b[0mtrain_seasons\u001b[0m\u001b[0;34m,\u001b[0m \u001b[0mregression\u001b[0m\u001b[0;34m=\u001b[0m\u001b[0;32mFalse\u001b[0m\u001b[0;34m)\u001b[0m\u001b[0;34m\u001b[0m\u001b[0;34m\u001b[0m\u001b[0m\n\u001b[0m\u001b[1;32m     16\u001b[0m \u001b[0mval_x\u001b[0m\u001b[0;34m,\u001b[0m \u001b[0mval_y\u001b[0m\u001b[0;34m,\u001b[0m \u001b[0mval_odds\u001b[0m\u001b[0;34m,\u001b[0m \u001b[0mval_teams\u001b[0m \u001b[0;34m=\u001b[0m \u001b[0mdata_handler\u001b[0m\u001b[0;34m.\u001b[0m\u001b[0mbuildData\u001b[0m\u001b[0;34m(\u001b[0m\u001b[0mval_seasons\u001b[0m\u001b[0;34m,\u001b[0m \u001b[0mregression\u001b[0m\u001b[0;34m=\u001b[0m\u001b[0;32mFalse\u001b[0m\u001b[0;34m)\u001b[0m\u001b[0;34m\u001b[0m\u001b[0;34m\u001b[0m\u001b[0m\n\u001b[1;32m     17\u001b[0m \u001b[0;34m\u001b[0m\u001b[0m\n",
      "\u001b[0;32m~/Documents/Bristol/Fourth_Year/Project/Data/Database_Data/db_handler.py\u001b[0m in \u001b[0;36mbuildData\u001b[0;34m(self, data_seasons, regression)\u001b[0m\n\u001b[1;32m    288\u001b[0m                 \u001b[0;31m# np.save(\"db_formatted_data/5_attrs/\"+(shape)+\"/\"+data_filename+\"_odds_\"+str(num_attrs), match_odds)\u001b[0m\u001b[0;34m\u001b[0m\u001b[0;34m\u001b[0m\u001b[0;34m\u001b[0m\u001b[0m\n\u001b[1;32m    289\u001b[0m \u001b[0;34m\u001b[0m\u001b[0m\n\u001b[0;32m--> 290\u001b[0;31m         \u001b[0minputs\u001b[0m\u001b[0;34m[\u001b[0m\u001b[0;34m'layouts'\u001b[0m\u001b[0;34m]\u001b[0m \u001b[0;34m=\u001b[0m \u001b[0mnp\u001b[0m\u001b[0;34m.\u001b[0m\u001b[0mconcatenate\u001b[0m\u001b[0;34m(\u001b[0m\u001b[0minputs\u001b[0m\u001b[0;34m[\u001b[0m\u001b[0;34m'layouts'\u001b[0m\u001b[0;34m]\u001b[0m\u001b[0;34m)\u001b[0m\u001b[0;34m\u001b[0m\u001b[0;34m\u001b[0m\u001b[0m\n\u001b[0m\u001b[1;32m    291\u001b[0m         \u001b[0minputs\u001b[0m\u001b[0;34m[\u001b[0m\u001b[0;34m'flats'\u001b[0m\u001b[0;34m]\u001b[0m \u001b[0;34m=\u001b[0m \u001b[0mnp\u001b[0m\u001b[0;34m.\u001b[0m\u001b[0mconcatenate\u001b[0m\u001b[0;34m(\u001b[0m\u001b[0minputs\u001b[0m\u001b[0;34m[\u001b[0m\u001b[0;34m'flats'\u001b[0m\u001b[0;34m]\u001b[0m\u001b[0;34m)\u001b[0m\u001b[0;34m\u001b[0m\u001b[0;34m\u001b[0m\u001b[0m\n\u001b[1;32m    292\u001b[0m         \u001b[0minputs\u001b[0m\u001b[0;34m[\u001b[0m\u001b[0;34m'attrss'\u001b[0m\u001b[0;34m]\u001b[0m \u001b[0;34m=\u001b[0m \u001b[0mnp\u001b[0m\u001b[0;34m.\u001b[0m\u001b[0mconcatenate\u001b[0m\u001b[0;34m(\u001b[0m\u001b[0minputs\u001b[0m\u001b[0;34m[\u001b[0m\u001b[0;34m'attrss'\u001b[0m\u001b[0;34m]\u001b[0m\u001b[0;34m)\u001b[0m\u001b[0;34m\u001b[0m\u001b[0;34m\u001b[0m\u001b[0m\n",
      "\u001b[0;32m<__array_function__ internals>\u001b[0m in \u001b[0;36mconcatenate\u001b[0;34m(*args, **kwargs)\u001b[0m\n",
      "\u001b[0;31mValueError\u001b[0m: need at least one array to concatenate"
     ]
    }
   ],
   "source": [
    "import db_handler\n",
    "import importlib\n",
    "importlib.reload(db_handler)\n",
    "from db_handler import DataManager\n",
    "\n",
    "seasons = [17]\n",
    "\n",
    "train_seasons = [str(2000+int(arg)-1)+\"/\"+str(2000+int(arg)) for arg in seasons[:-1]]\n",
    "val_seasons = [str(2000+int(seasons[-1])-1)+\"/\"+str(2000+int(seasons[-1]))]\n",
    "\n",
    "print(train_seasons)\n",
    "print(val_seasons)\n",
    "\n",
    "data_handler = DataManager()\n",
    "train_x, train_y, train_odds, train_teams = data_handler.buildData(train_seasons, regression=False)\n",
    "val_x, val_y, val_odds, val_teams = data_handler.buildData(val_seasons, regression=False)\n",
    "\n",
    "original_val_y = val_y\n",
    "train_y = tf.one_hot(train_y, depth=3)\n",
    "val_y = tf.one_hot(val_y, depth=3)\n",
    "\n",
    "print(np.shape(train_x['layouts']))\n",
    "print(np.shape(train_x['flats']))\n",
    "print(np.shape(train_x['attrss']))\n",
    "print(np.shape(train_y))\n",
    "\n",
    "# scaler = StandardScaler()\n",
    "# train_x['attrss'] = scaler.fit_transform(train_x['attrss'])\n",
    "# val_x['attrss'] = scaler.transform(val_x['attrss'])"
   ]
  },
  {
   "cell_type": "code",
   "execution_count": 157,
   "metadata": {},
   "outputs": [],
   "source": [
    "model_config = {\n",
    "    \"flat\" : {\n",
    "        \"dense_layers\" : [{\n",
    "            \"nodes\" : 64\n",
    "        },\n",
    "        {\n",
    "            \"nodes\" : 32\n",
    "        }]\n",
    "    },\n",
    "     \"reg_features\" : {\n",
    "        \"dense_layers\" : [{\n",
    "            \"nodes\" : 128\n",
    "        },\n",
    "        {\n",
    "            \"nodes\" : 64\n",
    "        }]\n",
    "    },\n",
    "    \"square\" : {\n",
    "        \"conv_layers\" : [{\n",
    "            \"kernel_size\" : [3,3],\n",
    "            \"kernels\" : 16\n",
    "        }],\n",
    "        \"dense_layers\" : [{\n",
    "            \"nodes\" : 64\n",
    "        },\n",
    "        {\n",
    "            \"nodes\" : 32\n",
    "        }]\n",
    "    }\n",
    "}"
   ]
  },
  {
   "cell_type": "code",
   "execution_count": 82,
   "metadata": {
    "tags": []
   },
   "outputs": [
    {
     "name": "stdout",
     "output_type": "stream",
     "text": [
      "Model: \"model_3\"\n",
      "__________________________________________________________________________________________________\n",
      "Layer (type)                    Output Shape         Param #     Connected to                     \n",
      "==================================================================================================\n",
      "attrs (InputLayer)              [(None, 7, 1)]       0                                            \n",
      "__________________________________________________________________________________________________\n",
      "dense_9 (Dense)                 (None, 7, 64)        128         attrs[0][0]                      \n",
      "__________________________________________________________________________________________________\n",
      "dense_10 (Dense)                (None, 7, 32)        2080        dense_9[0][0]                    \n",
      "__________________________________________________________________________________________________\n",
      "layouts (InputLayer)            [(None, 9, 22, 1)]   0                                            \n",
      "__________________________________________________________________________________________________\n",
      "batch_normalization_3 (BatchNor (None, 7, 32)        128         dense_10[0][0]                   \n",
      "__________________________________________________________________________________________________\n",
      "conv2d_2 (Conv2D)               (None, 7, 20, 16)    160         layouts[0][0]                    \n",
      "__________________________________________________________________________________________________\n",
      "leaky_re_lu_2 (LeakyReLU)       (None, 7, 32)        0           batch_normalization_3[0][0]      \n",
      "__________________________________________________________________________________________________\n",
      "flatten_4 (Flatten)             (None, 2240)         0           conv2d_2[0][0]                   \n",
      "__________________________________________________________________________________________________\n",
      "flatten_5 (Flatten)             (None, 224)          0           leaky_re_lu_2[0][0]              \n",
      "__________________________________________________________________________________________________\n",
      "concatenate_2 (Concatenate)     (None, 2464)         0           flatten_4[0][0]                  \n",
      "                                                                 flatten_5[0][0]                  \n",
      "__________________________________________________________________________________________________\n",
      "dense_11 (Dense)                (None, 1)            2465        concatenate_2[0][0]              \n",
      "==================================================================================================\n",
      "Total params: 4,961\n",
      "Trainable params: 4,897\n",
      "Non-trainable params: 64\n",
      "__________________________________________________________________________________________________\n",
      "None\n",
      "Epoch 1/25\n",
      "50/50 [==============================] - 1s 7ms/step - loss: 2.7011 - mse: 2.7011 - mae: 1.2495 - val_loss: 2.5981 - val_mse: 2.5981 - val_mae: 1.2401\n",
      "Epoch 2/25\n",
      "50/50 [==============================] - 0s 3ms/step - loss: 2.5210 - mse: 2.5210 - mae: 1.2089 - val_loss: 2.4923 - val_mse: 2.4923 - val_mae: 1.2135\n",
      "Epoch 3/25\n",
      "50/50 [==============================] - 0s 3ms/step - loss: 2.8659 - mse: 2.8659 - mae: 1.2716 - val_loss: 2.5637 - val_mse: 2.5637 - val_mae: 1.2322\n",
      "Epoch 4/25\n",
      "50/50 [==============================] - 0s 3ms/step - loss: 2.8476 - mse: 2.8476 - mae: 1.2982 - val_loss: 2.4316 - val_mse: 2.4316 - val_mae: 1.1946\n",
      "Epoch 5/25\n",
      "50/50 [==============================] - 0s 3ms/step - loss: 2.4419 - mse: 2.4419 - mae: 1.2277 - val_loss: 2.5087 - val_mse: 2.5087 - val_mae: 1.2059\n",
      "Epoch 6/25\n",
      "50/50 [==============================] - 0s 3ms/step - loss: 2.6065 - mse: 2.6065 - mae: 1.2497 - val_loss: 2.3812 - val_mse: 2.3812 - val_mae: 1.1807\n",
      "Epoch 7/25\n",
      "50/50 [==============================] - 0s 3ms/step - loss: 2.6026 - mse: 2.6026 - mae: 1.2641 - val_loss: 2.3445 - val_mse: 2.3445 - val_mae: 1.1632\n",
      "Epoch 8/25\n",
      "50/50 [==============================] - 0s 2ms/step - loss: 2.8885 - mse: 2.8885 - mae: 1.2910 - val_loss: 2.3491 - val_mse: 2.3491 - val_mae: 1.1710\n",
      "Epoch 9/25\n",
      "50/50 [==============================] - 0s 3ms/step - loss: 2.4261 - mse: 2.4261 - mae: 1.2348 - val_loss: 2.3390 - val_mse: 2.3390 - val_mae: 1.1727\n",
      "Epoch 10/25\n",
      "50/50 [==============================] - 0s 3ms/step - loss: 2.9474 - mse: 2.9474 - mae: 1.2856 - val_loss: 2.3286 - val_mse: 2.3286 - val_mae: 1.1656\n",
      "Epoch 11/25\n",
      "50/50 [==============================] - 0s 3ms/step - loss: 2.4916 - mse: 2.4916 - mae: 1.2483 - val_loss: 2.3984 - val_mse: 2.3984 - val_mae: 1.1832\n",
      "Epoch 12/25\n",
      "50/50 [==============================] - 0s 2ms/step - loss: 2.9504 - mse: 2.9504 - mae: 1.2818 - val_loss: 2.3546 - val_mse: 2.3546 - val_mae: 1.1715\n",
      "Epoch 13/25\n",
      "50/50 [==============================] - 0s 3ms/step - loss: 2.4776 - mse: 2.4776 - mae: 1.2302 - val_loss: 2.4902 - val_mse: 2.4902 - val_mae: 1.2056\n",
      "Epoch 14/25\n",
      "50/50 [==============================] - 0s 3ms/step - loss: 2.8574 - mse: 2.8574 - mae: 1.2498 - val_loss: 2.3730 - val_mse: 2.3730 - val_mae: 1.1802\n",
      "Epoch 15/25\n",
      "50/50 [==============================] - 0s 3ms/step - loss: 2.4758 - mse: 2.4758 - mae: 1.1884 - val_loss: 2.3681 - val_mse: 2.3681 - val_mae: 1.1804\n",
      "Epoch 16/25\n",
      "50/50 [==============================] - 0s 3ms/step - loss: 2.5766 - mse: 2.5766 - mae: 1.2409 - val_loss: 2.3808 - val_mse: 2.3808 - val_mae: 1.1850\n",
      "Epoch 17/25\n",
      "50/50 [==============================] - 0s 3ms/step - loss: 2.2995 - mse: 2.2995 - mae: 1.1708 - val_loss: 2.3832 - val_mse: 2.3832 - val_mae: 1.1793\n",
      "Epoch 18/25\n",
      "50/50 [==============================] - 0s 3ms/step - loss: 2.4897 - mse: 2.4897 - mae: 1.1965 - val_loss: 2.5190 - val_mse: 2.5190 - val_mae: 1.2175\n",
      "Epoch 19/25\n",
      "50/50 [==============================] - 0s 3ms/step - loss: 2.3171 - mse: 2.3171 - mae: 1.2000 - val_loss: 2.3948 - val_mse: 2.3948 - val_mae: 1.1883\n",
      "Epoch 20/25\n",
      "50/50 [==============================] - 0s 3ms/step - loss: 2.4618 - mse: 2.4618 - mae: 1.2204 - val_loss: 2.4776 - val_mse: 2.4776 - val_mae: 1.2109\n",
      "Epoch 21/25\n",
      "50/50 [==============================] - 0s 3ms/step - loss: 2.5210 - mse: 2.5210 - mae: 1.2076 - val_loss: 2.3814 - val_mse: 2.3814 - val_mae: 1.1847\n",
      "Epoch 22/25\n",
      "50/50 [==============================] - 0s 3ms/step - loss: 2.7702 - mse: 2.7702 - mae: 1.2992 - val_loss: 2.3762 - val_mse: 2.3762 - val_mae: 1.1854\n",
      "Epoch 23/25\n",
      "50/50 [==============================] - 0s 3ms/step - loss: 2.1917 - mse: 2.1917 - mae: 1.1341 - val_loss: 2.4149 - val_mse: 2.4149 - val_mae: 1.1933\n",
      "Epoch 24/25\n",
      "50/50 [==============================] - 0s 3ms/step - loss: 2.4470 - mse: 2.4470 - mae: 1.2124 - val_loss: 2.3596 - val_mse: 2.3596 - val_mae: 1.1768\n",
      "Epoch 25/25\n",
      "50/50 [==============================] - 0s 3ms/step - loss: 2.4555 - mse: 2.4555 - mae: 1.2263 - val_loss: 2.4827 - val_mse: 2.4827 - val_mae: 1.2083\n"
     ]
    }
   ],
   "source": [
    "with open('model_config.json') as fp:\n",
    "    config = json.load(fp)\n",
    "\n",
    "model = CombiModel(config[\"square\"],(9,22,1),(7,1),1, regression=True)\n",
    "# model = FlatNetwork(config[\"flat\"], input_shape=len(train_x['attrss'][0]), output_length=1, regression=True)\n",
    "print(model.summary())\n",
    "\n",
    "sgd_opt = tf.keras.optimizers.SGD(lr=0.0001, momentum=0.75, decay=0.0005/50, nesterov=False)\n",
    "adam_opt = tf.keras.optimizers.Adam(learning_rate=0.001, beta_1=0.9, beta_2=0.999, epsilon=1e-07, amsgrad=False)\n",
    "# model.compile(optimizer=adam_opt, \n",
    "#               loss=tf.losses.CategoricalCrossentropy(from_logits=True),\n",
    "#               metrics=['accuracy'])\n",
    "model.compile(optimizer=adam_opt, \n",
    "              loss='mse',\n",
    "              metrics=['mse','mae'])\n",
    "\n",
    "log_dir = \"logs/fit/\" + datetime.datetime.now().strftime(\"%Y%m%d-%H%M%S\")\n",
    "tensorboard_callback = tf.keras.callbacks.TensorBoard(log_dir=log_dir, histogram_freq=1)\n",
    "\n",
    "history = model.fit(\n",
    "    x=[train_x['layouts'], train_x['attrss']], y=train_y,\n",
    "    # x=train_x['attrss'], y=train_y,\n",
    "\tvalidation_data=([val_x['layouts'], val_x['attrss']], val_y),\n",
    "    # validation_data=(val_x['attrss'], val_y),\n",
    "\tepochs=25,\n",
    "    steps_per_epoch=50,\n",
    "    batch_size=16,\n",
    "    callbacks=[tensorboard_callback])\n",
    "\n",
    "val_preds = model.predict([val_x['layouts'], val_x['attrss']])"
   ]
  },
  {
   "cell_type": "code",
   "execution_count": 86,
   "metadata": {},
   "outputs": [
    {
     "name": "stdout",
     "output_type": "stream",
     "text": [
      "0.5388888888888889\n",
      "117\n",
      "243\n",
      "0\n"
     ]
    }
   ],
   "source": [
    "def check_result(pred, result):\n",
    "    if pred < 0 and result < 0:\n",
    "        return 1\n",
    "    if pred > 0 and result > 0:\n",
    "        return 1\n",
    "    if pred == 0 and result == 0:\n",
    "        return 1\n",
    "    return 0\n",
    "\n",
    "results = [check_result(val_preds[i], val_y[i]) for i in range(len(val_preds))]\n",
    "print(np.mean(results))\n",
    "print(len([pred for pred in val_preds if pred < 0]))\n",
    "print(len([pred for pred in val_preds if pred > 0]))\n",
    "print(len([pred for pred in val_preds if pred == 0]))"
   ]
  },
  {
   "cell_type": "code",
   "execution_count": 161,
   "metadata": {},
   "outputs": [
    {
     "name": "stdout",
     "output_type": "stream",
     "text": [
      "Epoch 1/30\n",
      "336/336 [==============================] - 2s 1ms/step - loss: 4.6295 - accuracy: 0.2850\n",
      "Epoch 2/30\n",
      "336/336 [==============================] - 0s 1ms/step - loss: 3.6307 - accuracy: 0.3183\n",
      "Epoch 3/30\n",
      "336/336 [==============================] - 0s 1ms/step - loss: 2.0360 - accuracy: 0.3741\n",
      "Epoch 4/30\n",
      "336/336 [==============================] - 0s 1ms/step - loss: 4.0104 - accuracy: 0.4127\n",
      "Epoch 5/30\n",
      "336/336 [==============================] - 1s 2ms/step - loss: 2.1734 - accuracy: 0.3263 - val_loss: 4.5079 - val_accuracy: 0.3476\n",
      "Epoch 6/30\n",
      "336/336 [==============================] - 0s 1ms/step - loss: 6.5657 - accuracy: 0.3392\n",
      "Epoch 7/30\n",
      "336/336 [==============================] - 0s 1ms/step - loss: 4.7810 - accuracy: 0.3236\n",
      "Epoch 8/30\n",
      "336/336 [==============================] - 0s 1ms/step - loss: 4.2468 - accuracy: 0.2796\n",
      "Epoch 9/30\n",
      "336/336 [==============================] - 0s 1ms/step - loss: 4.8309 - accuracy: 0.3116\n",
      "Epoch 10/30\n",
      "336/336 [==============================] - 0s 1ms/step - loss: 4.0166 - accuracy: 0.2858 - val_loss: 5.8106 - val_accuracy: 0.2941\n",
      "Epoch 11/30\n",
      "336/336 [==============================] - 0s 1ms/step - loss: 5.2158 - accuracy: 0.2833\n",
      "Epoch 12/30\n",
      "336/336 [==============================] - 0s 1ms/step - loss: 3.7086 - accuracy: 0.3239\n",
      "Epoch 13/30\n",
      "336/336 [==============================] - 0s 1ms/step - loss: 2.6555 - accuracy: 0.3076\n",
      "Epoch 14/30\n",
      "336/336 [==============================] - 0s 1ms/step - loss: 3.7726 - accuracy: 0.2778\n",
      "Epoch 15/30\n",
      "336/336 [==============================] - 0s 1ms/step - loss: 4.4716 - accuracy: 0.2518 - val_loss: 3.6203 - val_accuracy: 0.2460\n",
      "Epoch 16/30\n",
      "336/336 [==============================] - 0s 1ms/step - loss: 5.2376 - accuracy: 0.2698\n",
      "Epoch 17/30\n",
      "336/336 [==============================] - 0s 1ms/step - loss: 4.6628 - accuracy: 0.2275\n",
      "Epoch 18/30\n",
      "336/336 [==============================] - 0s 1ms/step - loss: 5.3242 - accuracy: 0.2297\n",
      "Epoch 19/30\n",
      "336/336 [==============================] - 0s 1ms/step - loss: 5.3488 - accuracy: 0.2370\n",
      "Epoch 20/30\n",
      "336/336 [==============================] - 1s 2ms/step - loss: 5.2426 - accuracy: 0.2345 - val_loss: 5.6295 - val_accuracy: 0.2353\n",
      "Epoch 21/30\n",
      "336/336 [==============================] - 0s 1ms/step - loss: 5.8049 - accuracy: 0.2411\n",
      "Epoch 22/30\n",
      "336/336 [==============================] - 1s 2ms/step - loss: 4.8392 - accuracy: 0.2355\n",
      "Epoch 23/30\n",
      "336/336 [==============================] - 0s 1ms/step - loss: 5.7773 - accuracy: 0.2232\n",
      "Epoch 24/30\n",
      "336/336 [==============================] - 0s 1ms/step - loss: 5.1696 - accuracy: 0.2447\n",
      "Epoch 25/30\n",
      "336/336 [==============================] - 1s 2ms/step - loss: 4.1369 - accuracy: 0.2530 - val_loss: 4.3888 - val_accuracy: 0.2674\n",
      "Epoch 26/30\n",
      "336/336 [==============================] - 0s 1ms/step - loss: 4.5672 - accuracy: 0.2650\n",
      "Epoch 27/30\n",
      "336/336 [==============================] - 0s 1ms/step - loss: 4.3978 - accuracy: 0.2539\n",
      "Epoch 28/30\n",
      "336/336 [==============================] - 0s 1ms/step - loss: 4.6851 - accuracy: 0.2291\n",
      "Epoch 29/30\n",
      "336/336 [==============================] - 0s 1ms/step - loss: 4.9158 - accuracy: 0.2922\n",
      "Epoch 30/30\n",
      "336/336 [==============================] - 1s 2ms/step - loss: 4.1637 - accuracy: 0.2745 - val_loss: 6.3430 - val_accuracy: 0.2727\n"
     ]
    }
   ],
   "source": [
    "import tensorflow_probability as tfp\n",
    "import datetime\n",
    "dist = tfp.distributions\n",
    "\n",
    "log_dir = \"logs/fit/\" + datetime.datetime.now().strftime(\"%Y%m%d-%H%M%S\")\n",
    "tensorboard_callback = tf.keras.callbacks.TensorBoard(log_dir=log_dir, histogram_freq=1)\n",
    "\n",
    "dataset_size = len(train_x['flats'])\n",
    "kl_divergence_function = (lambda q, p, _: dist.kl_divergence(q, p) / tf.cast(dataset_size, dtype=tf.float32))\n",
    "\n",
    "model_tfp = tf.keras.Sequential([\n",
    "    tf.keras.Input(shape=(len(train_x['flats'][0]),),name=\"basket\"),\n",
    "    tfp.layers.DenseFlipout(64, kernel_divergence_fn=kl_divergence_function, activation=tf.nn.leaky_relu, name=\"dense_tfp_1\"),\n",
    "    tfp.layers.DenseFlipout(32, kernel_divergence_fn=kl_divergence_function, activation=tf.nn.leaky_relu, name=\"dense_tfp_2\"),\n",
    "    tfp.layers.DenseFlipout(3, kernel_divergence_fn=kl_divergence_function, name=\"out_tfp_pred\"),\n",
    "])\n",
    "\n",
    "learning_rate = 0.001\n",
    "\n",
    "model_tfp.compile(optimizer=tf.keras.optimizers.Adam(learning_rate),\n",
    "                  loss='categorical_crossentropy',\n",
    "                  metrics=['accuracy'])\n",
    "\n",
    "batch_size = 5\n",
    "\n",
    "scaler = StandardScaler()\n",
    "sc_train_x = train_x\n",
    "sc_val_x = val_x\n",
    "sc_train_x['flats'] = scaler.fit_transform(train_x['flats'])\n",
    "sc_val_x['flats'] = scaler.transform(val_x['flats'])\n",
    "\n",
    "# scaler = StandardScaler()\n",
    "# sc_train_y = train_y\n",
    "# sc_val_y = val_y\n",
    "# sc_train_y = scaler.fit_transform(train_y)\n",
    "# sc_val_y = scaler.transform(val_y)\n",
    "\n",
    "history = model_tfp.fit(x=sc_train_x['flats'], \n",
    "                    y=sc_train_y,\n",
    "                    epochs=30, \n",
    "                    verbose=1, \n",
    "                    batch_size=batch_size,\n",
    "                    validation_split=0.1,\n",
    "                    validation_freq=5,\n",
    "                    callbacks=[tensorboard_callback])"
   ]
  },
  {
   "cell_type": "code",
   "execution_count": 160,
   "metadata": {},
   "outputs": [
    {
     "data": {
      "text/plain": [
       "array([-0.93299621, -0.58664797,  1.60922198])"
      ]
     },
     "execution_count": 160,
     "metadata": {},
     "output_type": "execute_result"
    }
   ],
   "source": [
    "# preds = [[model_tfp.predict(np.expand_dims(val_flat, [0])) for i in range(100)] for val_flat in train_x['flats'][:10]]"
   ]
  },
  {
   "cell_type": "code",
   "execution_count": 118,
   "metadata": {},
   "outputs": [
    {
     "data": {
      "image/png": "[encoded data removed]",
      "image/svg+xml": "<?xml version=\"1.0\" encoding=\"utf-8\" standalone=\"no\"?>\n<!DOCTYPE svg PUBLIC \"-//W3C//DTD SVG 1.1//EN\"\n  \"http://www.w3.org/Graphics/SVG/1.1/DTD/svg11.dtd\">\n<!-- Created with matplotlib (https://matplotlib.org/) -->\n<svg height=\"248.518125pt\" version=\"1.1\" viewBox=\"0 0 378.465625 248.518125\" width=\"378.465625pt\" xmlns=\"http://www.w3.org/2000/svg\" xmlns:xlink=\"http://www.w3.org/1999/xlink\">\n <metadata>\n  <rdf:RDF xmlns:cc=\"http://creativecommons.org/ns#\" xmlns:dc=\"http://purl.org/dc/elements/1.1/\" xmlns:rdf=\"http://www.w3.org/1999/02/22-rdf-syntax-ns#\">\n   <cc:Work>\n    <dc:type rdf:resource=\"http://purl.org/dc/dcmitype/StillImage\"/>\n    <dc:date>2021-01-31T14:15:32.374094</dc:date>\n    <dc:format>image/svg+xml</dc:format>\n    <dc:creator>\n     <cc:Agent>\n      <dc:title>Matplotlib v3.3.3, https://matplotlib.org/</dc:title>\n     </cc:Agent>\n    </dc:creator>\n   </cc:Work>\n  </rdf:RDF>\n </metadata>\n <defs>\n  <style type=\"text/css\">*{stroke-linecap:butt;stroke-linejoin:round;}</style>\n </defs>\n <g id=\"figure_1\">\n  <g id=\"patch_1\">\n   <path d=\"M 0 248.518125 \nL 378.465625 248.518125 \nL 378.465625 0 \nL 0 0 \nz\n\" style=\"fill:none;\"/>\n  </g>\n  <g id=\"axes_1\">\n   <g id=\"patch_2\">\n    <path d=\"M 36.465625 224.64 \nL 371.265625 224.64 \nL 371.265625 7.2 \nL 36.465625 7.2 \nz\n\" style=\"fill:#ffffff;\"/>\n   </g>\n   <g id=\"patch_3\">\n    <path clip-path=\"url(#p9d222aab59)\" d=\"M 51.683807 224.64 \nL 82.120163 224.64 \nL 82.120163 202.841504 \nL 51.683807 202.841504 \nz\n\" style=\"fill:#0000ff;opacity:0.5;\"/>\n   </g>\n   <g id=\"patch_4\">\n    <path clip-path=\"url(#p9d222aab59)\" d=\"M 82.120163 224.64 \nL 112.556524 224.64 \nL 112.556524 202.841504 \nL 82.120163 202.841504 \nz\n\" style=\"fill:#0000ff;opacity:0.5;\"/>\n   </g>\n   <g id=\"patch_5\">\n    <path clip-path=\"url(#p9d222aab59)\" d=\"M 112.556524 224.64 \nL 142.992892 224.64 \nL 142.992892 137.446015 \nL 112.556524 137.446015 \nz\n\" style=\"fill:#0000ff;opacity:0.5;\"/>\n   </g>\n   <g id=\"patch_6\">\n    <path clip-path=\"url(#p9d222aab59)\" d=\"M 142.992892 224.64 \nL 173.42926 224.64 \nL 173.42926 82.949774 \nL 142.992892 82.949774 \nz\n\" style=\"fill:#0000ff;opacity:0.5;\"/>\n   </g>\n   <g id=\"patch_7\">\n    <path clip-path=\"url(#p9d222aab59)\" d=\"M 173.42926 224.64 \nL 203.865628 224.64 \nL 203.865628 17.554286 \nL 173.42926 17.554286 \nz\n\" style=\"fill:#0000ff;opacity:0.5;\"/>\n   </g>\n   <g id=\"patch_8\">\n    <path clip-path=\"url(#p9d222aab59)\" d=\"M 203.865628 224.64 \nL 234.301996 224.64 \nL 234.301996 39.352782 \nL 203.865628 39.352782 \nz\n\" style=\"fill:#0000ff;opacity:0.5;\"/>\n   </g>\n   <g id=\"patch_9\">\n    <path clip-path=\"url(#p9d222aab59)\" d=\"M 234.301996 224.64 \nL 264.73834 224.64 \nL 264.73834 17.554286 \nL 234.301996 17.554286 \nz\n\" style=\"fill:#0000ff;opacity:0.5;\"/>\n   </g>\n   <g id=\"patch_10\">\n    <path clip-path=\"url(#p9d222aab59)\" d=\"M 264.73834 224.64 \nL 295.174707 224.64 \nL 295.174707 82.949774 \nL 264.73834 82.949774 \nz\n\" style=\"fill:#0000ff;opacity:0.5;\"/>\n   </g>\n   <g id=\"patch_11\">\n    <path clip-path=\"url(#p9d222aab59)\" d=\"M 295.174707 224.64 \nL 325.611075 224.64 \nL 325.611075 202.841504 \nL 295.174707 202.841504 \nz\n\" style=\"fill:#0000ff;opacity:0.5;\"/>\n   </g>\n   <g id=\"patch_12\">\n    <path clip-path=\"url(#p9d222aab59)\" d=\"M 325.611075 224.64 \nL 356.047443 224.64 \nL 356.047443 170.143759 \nL 325.611075 170.143759 \nz\n\" style=\"fill:#0000ff;opacity:0.5;\"/>\n   </g>\n   <g id=\"matplotlib.axis_1\">\n    <g id=\"xtick_1\">\n     <g id=\"line2d_1\">\n      <defs>\n       <path d=\"M 0 0 \nL 0 3.5 \n\" id=\"m7f8566b861\" style=\"stroke:#000000;stroke-width:0.8;\"/>\n      </defs>\n      <g>\n       <use style=\"stroke:#000000;stroke-width:0.8;\" x=\"63.617652\" xlink:href=\"#m7f8566b861\" y=\"224.64\"/>\n      </g>\n     </g>\n     <g id=\"text_1\">\n      <!-- 0.2 -->\n      <g transform=\"translate(55.666089 239.238437)scale(0.1 -0.1)\">\n       <defs>\n        <path d=\"M 31.78125 66.40625 \nQ 24.171875 66.40625 20.328125 58.90625 \nQ 16.5 51.421875 16.5 36.375 \nQ 16.5 21.390625 20.328125 13.890625 \nQ 24.171875 6.390625 31.78125 6.390625 \nQ 39.453125 6.390625 43.28125 13.890625 \nQ 47.125 21.390625 47.125 36.375 \nQ 47.125 51.421875 43.28125 58.90625 \nQ 39.453125 66.40625 31.78125 66.40625 \nz\nM 31.78125 74.21875 \nQ 44.046875 74.21875 50.515625 64.515625 \nQ 56.984375 54.828125 56.984375 36.375 \nQ 56.984375 17.96875 50.515625 8.265625 \nQ 44.046875 -1.421875 31.78125 -1.421875 \nQ 19.53125 -1.421875 13.0625 8.265625 \nQ 6.59375 17.96875 6.59375 36.375 \nQ 6.59375 54.828125 13.0625 64.515625 \nQ 19.53125 74.21875 31.78125 74.21875 \nz\n\" id=\"DejaVuSans-48\"/>\n        <path d=\"M 10.6875 12.40625 \nL 21 12.40625 \nL 21 0 \nL 10.6875 0 \nz\n\" id=\"DejaVuSans-46\"/>\n        <path d=\"M 19.1875 8.296875 \nL 53.609375 8.296875 \nL 53.609375 0 \nL 7.328125 0 \nL 7.328125 8.296875 \nQ 12.9375 14.109375 22.625 23.890625 \nQ 32.328125 33.6875 34.8125 36.53125 \nQ 39.546875 41.84375 41.421875 45.53125 \nQ 43.3125 49.21875 43.3125 52.78125 \nQ 43.3125 58.59375 39.234375 62.25 \nQ 35.15625 65.921875 28.609375 65.921875 \nQ 23.96875 65.921875 18.8125 64.3125 \nQ 13.671875 62.703125 7.8125 59.421875 \nL 7.8125 69.390625 \nQ 13.765625 71.78125 18.9375 73 \nQ 24.125 74.21875 28.421875 74.21875 \nQ 39.75 74.21875 46.484375 68.546875 \nQ 53.21875 62.890625 53.21875 53.421875 \nQ 53.21875 48.921875 51.53125 44.890625 \nQ 49.859375 40.875 45.40625 35.40625 \nQ 44.1875 33.984375 37.640625 27.21875 \nQ 31.109375 20.453125 19.1875 8.296875 \nz\n\" id=\"DejaVuSans-50\"/>\n       </defs>\n       <use xlink:href=\"#DejaVuSans-48\"/>\n       <use x=\"63.623047\" xlink:href=\"#DejaVuSans-46\"/>\n       <use x=\"95.410156\" xlink:href=\"#DejaVuSans-50\"/>\n      </g>\n     </g>\n    </g>\n    <g id=\"xtick_2\">\n     <g id=\"line2d_2\">\n      <g>\n       <use style=\"stroke:#000000;stroke-width:0.8;\" x=\"104.156665\" xlink:href=\"#m7f8566b861\" y=\"224.64\"/>\n      </g>\n     </g>\n     <g id=\"text_2\">\n      <!-- 0.3 -->\n      <g transform=\"translate(96.205102 239.238437)scale(0.1 -0.1)\">\n       <defs>\n        <path d=\"M 40.578125 39.3125 \nQ 47.65625 37.796875 51.625 33 \nQ 55.609375 28.21875 55.609375 21.1875 \nQ 55.609375 10.40625 48.1875 4.484375 \nQ 40.765625 -1.421875 27.09375 -1.421875 \nQ 22.515625 -1.421875 17.65625 -0.515625 \nQ 12.796875 0.390625 7.625 2.203125 \nL 7.625 11.71875 \nQ 11.71875 9.328125 16.59375 8.109375 \nQ 21.484375 6.890625 26.8125 6.890625 \nQ 36.078125 6.890625 40.9375 10.546875 \nQ 45.796875 14.203125 45.796875 21.1875 \nQ 45.796875 27.640625 41.28125 31.265625 \nQ 36.765625 34.90625 28.71875 34.90625 \nL 20.21875 34.90625 \nL 20.21875 43.015625 \nL 29.109375 43.015625 \nQ 36.375 43.015625 40.234375 45.921875 \nQ 44.09375 48.828125 44.09375 54.296875 \nQ 44.09375 59.90625 40.109375 62.90625 \nQ 36.140625 65.921875 28.71875 65.921875 \nQ 24.65625 65.921875 20.015625 65.03125 \nQ 15.375 64.15625 9.8125 62.3125 \nL 9.8125 71.09375 \nQ 15.4375 72.65625 20.34375 73.4375 \nQ 25.25 74.21875 29.59375 74.21875 \nQ 40.828125 74.21875 47.359375 69.109375 \nQ 53.90625 64.015625 53.90625 55.328125 \nQ 53.90625 49.265625 50.4375 45.09375 \nQ 46.96875 40.921875 40.578125 39.3125 \nz\n\" id=\"DejaVuSans-51\"/>\n       </defs>\n       <use xlink:href=\"#DejaVuSans-48\"/>\n       <use x=\"63.623047\" xlink:href=\"#DejaVuSans-46\"/>\n       <use x=\"95.410156\" xlink:href=\"#DejaVuSans-51\"/>\n      </g>\n     </g>\n    </g>\n    <g id=\"xtick_3\">\n     <g id=\"line2d_3\">\n      <g>\n       <use style=\"stroke:#000000;stroke-width:0.8;\" x=\"144.695678\" xlink:href=\"#m7f8566b861\" y=\"224.64\"/>\n      </g>\n     </g>\n     <g id=\"text_3\">\n      <!-- 0.4 -->\n      <g transform=\"translate(136.744116 239.238437)scale(0.1 -0.1)\">\n       <defs>\n        <path d=\"M 37.796875 64.3125 \nL 12.890625 25.390625 \nL 37.796875 25.390625 \nz\nM 35.203125 72.90625 \nL 47.609375 72.90625 \nL 47.609375 25.390625 \nL 58.015625 25.390625 \nL 58.015625 17.1875 \nL 47.609375 17.1875 \nL 47.609375 0 \nL 37.796875 0 \nL 37.796875 17.1875 \nL 4.890625 17.1875 \nL 4.890625 26.703125 \nz\n\" id=\"DejaVuSans-52\"/>\n       </defs>\n       <use xlink:href=\"#DejaVuSans-48\"/>\n       <use x=\"63.623047\" xlink:href=\"#DejaVuSans-46\"/>\n       <use x=\"95.410156\" xlink:href=\"#DejaVuSans-52\"/>\n      </g>\n     </g>\n    </g>\n    <g id=\"xtick_4\">\n     <g id=\"line2d_4\">\n      <g>\n       <use style=\"stroke:#000000;stroke-width:0.8;\" x=\"185.234691\" xlink:href=\"#m7f8566b861\" y=\"224.64\"/>\n      </g>\n     </g>\n     <g id=\"text_4\">\n      <!-- 0.5 -->\n      <g transform=\"translate(177.283129 239.238437)scale(0.1 -0.1)\">\n       <defs>\n        <path d=\"M 10.796875 72.90625 \nL 49.515625 72.90625 \nL 49.515625 64.59375 \nL 19.828125 64.59375 \nL 19.828125 46.734375 \nQ 21.96875 47.46875 24.109375 47.828125 \nQ 26.265625 48.1875 28.421875 48.1875 \nQ 40.625 48.1875 47.75 41.5 \nQ 54.890625 34.8125 54.890625 23.390625 \nQ 54.890625 11.625 47.5625 5.09375 \nQ 40.234375 -1.421875 26.90625 -1.421875 \nQ 22.3125 -1.421875 17.546875 -0.640625 \nQ 12.796875 0.140625 7.71875 1.703125 \nL 7.71875 11.625 \nQ 12.109375 9.234375 16.796875 8.0625 \nQ 21.484375 6.890625 26.703125 6.890625 \nQ 35.15625 6.890625 40.078125 11.328125 \nQ 45.015625 15.765625 45.015625 23.390625 \nQ 45.015625 31 40.078125 35.4375 \nQ 35.15625 39.890625 26.703125 39.890625 \nQ 22.75 39.890625 18.8125 39.015625 \nQ 14.890625 38.140625 10.796875 36.28125 \nz\n\" id=\"DejaVuSans-53\"/>\n       </defs>\n       <use xlink:href=\"#DejaVuSans-48\"/>\n       <use x=\"63.623047\" xlink:href=\"#DejaVuSans-46\"/>\n       <use x=\"95.410156\" xlink:href=\"#DejaVuSans-53\"/>\n      </g>\n     </g>\n    </g>\n    <g id=\"xtick_5\">\n     <g id=\"line2d_5\">\n      <g>\n       <use style=\"stroke:#000000;stroke-width:0.8;\" x=\"225.773704\" xlink:href=\"#m7f8566b861\" y=\"224.64\"/>\n      </g>\n     </g>\n     <g id=\"text_5\">\n      <!-- 0.6 -->\n      <g transform=\"translate(217.822142 239.238437)scale(0.1 -0.1)\">\n       <defs>\n        <path d=\"M 33.015625 40.375 \nQ 26.375 40.375 22.484375 35.828125 \nQ 18.609375 31.296875 18.609375 23.390625 \nQ 18.609375 15.53125 22.484375 10.953125 \nQ 26.375 6.390625 33.015625 6.390625 \nQ 39.65625 6.390625 43.53125 10.953125 \nQ 47.40625 15.53125 47.40625 23.390625 \nQ 47.40625 31.296875 43.53125 35.828125 \nQ 39.65625 40.375 33.015625 40.375 \nz\nM 52.59375 71.296875 \nL 52.59375 62.3125 \nQ 48.875 64.0625 45.09375 64.984375 \nQ 41.3125 65.921875 37.59375 65.921875 \nQ 27.828125 65.921875 22.671875 59.328125 \nQ 17.53125 52.734375 16.796875 39.40625 \nQ 19.671875 43.65625 24.015625 45.921875 \nQ 28.375 48.1875 33.59375 48.1875 \nQ 44.578125 48.1875 50.953125 41.515625 \nQ 57.328125 34.859375 57.328125 23.390625 \nQ 57.328125 12.15625 50.6875 5.359375 \nQ 44.046875 -1.421875 33.015625 -1.421875 \nQ 20.359375 -1.421875 13.671875 8.265625 \nQ 6.984375 17.96875 6.984375 36.375 \nQ 6.984375 53.65625 15.1875 63.9375 \nQ 23.390625 74.21875 37.203125 74.21875 \nQ 40.921875 74.21875 44.703125 73.484375 \nQ 48.484375 72.75 52.59375 71.296875 \nz\n\" id=\"DejaVuSans-54\"/>\n       </defs>\n       <use xlink:href=\"#DejaVuSans-48\"/>\n       <use x=\"63.623047\" xlink:href=\"#DejaVuSans-46\"/>\n       <use x=\"95.410156\" xlink:href=\"#DejaVuSans-54\"/>\n      </g>\n     </g>\n    </g>\n    <g id=\"xtick_6\">\n     <g id=\"line2d_6\">\n      <g>\n       <use style=\"stroke:#000000;stroke-width:0.8;\" x=\"266.312718\" xlink:href=\"#m7f8566b861\" y=\"224.64\"/>\n      </g>\n     </g>\n     <g id=\"text_6\">\n      <!-- 0.7 -->\n      <g transform=\"translate(258.361155 239.238437)scale(0.1 -0.1)\">\n       <defs>\n        <path d=\"M 8.203125 72.90625 \nL 55.078125 72.90625 \nL 55.078125 68.703125 \nL 28.609375 0 \nL 18.3125 0 \nL 43.21875 64.59375 \nL 8.203125 64.59375 \nz\n\" id=\"DejaVuSans-55\"/>\n       </defs>\n       <use xlink:href=\"#DejaVuSans-48\"/>\n       <use x=\"63.623047\" xlink:href=\"#DejaVuSans-46\"/>\n       <use x=\"95.410156\" xlink:href=\"#DejaVuSans-55\"/>\n      </g>\n     </g>\n    </g>\n    <g id=\"xtick_7\">\n     <g id=\"line2d_7\">\n      <g>\n       <use style=\"stroke:#000000;stroke-width:0.8;\" x=\"306.851731\" xlink:href=\"#m7f8566b861\" y=\"224.64\"/>\n      </g>\n     </g>\n     <g id=\"text_7\">\n      <!-- 0.8 -->\n      <g transform=\"translate(298.900168 239.238437)scale(0.1 -0.1)\">\n       <defs>\n        <path d=\"M 31.78125 34.625 \nQ 24.75 34.625 20.71875 30.859375 \nQ 16.703125 27.09375 16.703125 20.515625 \nQ 16.703125 13.921875 20.71875 10.15625 \nQ 24.75 6.390625 31.78125 6.390625 \nQ 38.8125 6.390625 42.859375 10.171875 \nQ 46.921875 13.96875 46.921875 20.515625 \nQ 46.921875 27.09375 42.890625 30.859375 \nQ 38.875 34.625 31.78125 34.625 \nz\nM 21.921875 38.8125 \nQ 15.578125 40.375 12.03125 44.71875 \nQ 8.5 49.078125 8.5 55.328125 \nQ 8.5 64.0625 14.71875 69.140625 \nQ 20.953125 74.21875 31.78125 74.21875 \nQ 42.671875 74.21875 48.875 69.140625 \nQ 55.078125 64.0625 55.078125 55.328125 \nQ 55.078125 49.078125 51.53125 44.71875 \nQ 48 40.375 41.703125 38.8125 \nQ 48.828125 37.15625 52.796875 32.3125 \nQ 56.78125 27.484375 56.78125 20.515625 \nQ 56.78125 9.90625 50.3125 4.234375 \nQ 43.84375 -1.421875 31.78125 -1.421875 \nQ 19.734375 -1.421875 13.25 4.234375 \nQ 6.78125 9.90625 6.78125 20.515625 \nQ 6.78125 27.484375 10.78125 32.3125 \nQ 14.796875 37.15625 21.921875 38.8125 \nz\nM 18.3125 54.390625 \nQ 18.3125 48.734375 21.84375 45.5625 \nQ 25.390625 42.390625 31.78125 42.390625 \nQ 38.140625 42.390625 41.71875 45.5625 \nQ 45.3125 48.734375 45.3125 54.390625 \nQ 45.3125 60.0625 41.71875 63.234375 \nQ 38.140625 66.40625 31.78125 66.40625 \nQ 25.390625 66.40625 21.84375 63.234375 \nQ 18.3125 60.0625 18.3125 54.390625 \nz\n\" id=\"DejaVuSans-56\"/>\n       </defs>\n       <use xlink:href=\"#DejaVuSans-48\"/>\n       <use x=\"63.623047\" xlink:href=\"#DejaVuSans-46\"/>\n       <use x=\"95.410156\" xlink:href=\"#DejaVuSans-56\"/>\n      </g>\n     </g>\n    </g>\n    <g id=\"xtick_8\">\n     <g id=\"line2d_8\">\n      <g>\n       <use style=\"stroke:#000000;stroke-width:0.8;\" x=\"347.390744\" xlink:href=\"#m7f8566b861\" y=\"224.64\"/>\n      </g>\n     </g>\n     <g id=\"text_8\">\n      <!-- 0.9 -->\n      <g transform=\"translate(339.439182 239.238437)scale(0.1 -0.1)\">\n       <defs>\n        <path d=\"M 10.984375 1.515625 \nL 10.984375 10.5 \nQ 14.703125 8.734375 18.5 7.8125 \nQ 22.3125 6.890625 25.984375 6.890625 \nQ 35.75 6.890625 40.890625 13.453125 \nQ 46.046875 20.015625 46.78125 33.40625 \nQ 43.953125 29.203125 39.59375 26.953125 \nQ 35.25 24.703125 29.984375 24.703125 \nQ 19.046875 24.703125 12.671875 31.3125 \nQ 6.296875 37.9375 6.296875 49.421875 \nQ 6.296875 60.640625 12.9375 67.421875 \nQ 19.578125 74.21875 30.609375 74.21875 \nQ 43.265625 74.21875 49.921875 64.515625 \nQ 56.59375 54.828125 56.59375 36.375 \nQ 56.59375 19.140625 48.40625 8.859375 \nQ 40.234375 -1.421875 26.421875 -1.421875 \nQ 22.703125 -1.421875 18.890625 -0.6875 \nQ 15.09375 0.046875 10.984375 1.515625 \nz\nM 30.609375 32.421875 \nQ 37.25 32.421875 41.125 36.953125 \nQ 45.015625 41.5 45.015625 49.421875 \nQ 45.015625 57.28125 41.125 61.84375 \nQ 37.25 66.40625 30.609375 66.40625 \nQ 23.96875 66.40625 20.09375 61.84375 \nQ 16.21875 57.28125 16.21875 49.421875 \nQ 16.21875 41.5 20.09375 36.953125 \nQ 23.96875 32.421875 30.609375 32.421875 \nz\n\" id=\"DejaVuSans-57\"/>\n       </defs>\n       <use xlink:href=\"#DejaVuSans-48\"/>\n       <use x=\"63.623047\" xlink:href=\"#DejaVuSans-46\"/>\n       <use x=\"95.410156\" xlink:href=\"#DejaVuSans-57\"/>\n      </g>\n     </g>\n    </g>\n   </g>\n   <g id=\"matplotlib.axis_2\">\n    <g id=\"ytick_1\">\n     <g id=\"line2d_9\">\n      <defs>\n       <path d=\"M 0 0 \nL -3.5 0 \n\" id=\"m9394d7b5a2\" style=\"stroke:#000000;stroke-width:0.8;\"/>\n      </defs>\n      <g>\n       <use style=\"stroke:#000000;stroke-width:0.8;\" x=\"36.465625\" xlink:href=\"#m9394d7b5a2\" y=\"224.64\"/>\n      </g>\n     </g>\n     <g id=\"text_9\">\n      <!-- 0.0 -->\n      <g transform=\"translate(13.5625 228.439219)scale(0.1 -0.1)\">\n       <use xlink:href=\"#DejaVuSans-48\"/>\n       <use x=\"63.623047\" xlink:href=\"#DejaVuSans-46\"/>\n       <use x=\"95.410156\" xlink:href=\"#DejaVuSans-48\"/>\n      </g>\n     </g>\n    </g>\n    <g id=\"ytick_2\">\n     <g id=\"line2d_10\">\n      <g>\n       <use style=\"stroke:#000000;stroke-width:0.8;\" x=\"36.465625\" xlink:href=\"#m9394d7b5a2\" y=\"197.39188\"/>\n      </g>\n     </g>\n     <g id=\"text_10\">\n      <!-- 2.5 -->\n      <g transform=\"translate(13.5625 201.191098)scale(0.1 -0.1)\">\n       <use xlink:href=\"#DejaVuSans-50\"/>\n       <use x=\"63.623047\" xlink:href=\"#DejaVuSans-46\"/>\n       <use x=\"95.410156\" xlink:href=\"#DejaVuSans-53\"/>\n      </g>\n     </g>\n    </g>\n    <g id=\"ytick_3\">\n     <g id=\"line2d_11\">\n      <g>\n       <use style=\"stroke:#000000;stroke-width:0.8;\" x=\"36.465625\" xlink:href=\"#m9394d7b5a2\" y=\"170.143759\"/>\n      </g>\n     </g>\n     <g id=\"text_11\">\n      <!-- 5.0 -->\n      <g transform=\"translate(13.5625 173.942978)scale(0.1 -0.1)\">\n       <use xlink:href=\"#DejaVuSans-53\"/>\n       <use x=\"63.623047\" xlink:href=\"#DejaVuSans-46\"/>\n       <use x=\"95.410156\" xlink:href=\"#DejaVuSans-48\"/>\n      </g>\n     </g>\n    </g>\n    <g id=\"ytick_4\">\n     <g id=\"line2d_12\">\n      <g>\n       <use style=\"stroke:#000000;stroke-width:0.8;\" x=\"36.465625\" xlink:href=\"#m9394d7b5a2\" y=\"142.895639\"/>\n      </g>\n     </g>\n     <g id=\"text_12\">\n      <!-- 7.5 -->\n      <g transform=\"translate(13.5625 146.694858)scale(0.1 -0.1)\">\n       <use xlink:href=\"#DejaVuSans-55\"/>\n       <use x=\"63.623047\" xlink:href=\"#DejaVuSans-46\"/>\n       <use x=\"95.410156\" xlink:href=\"#DejaVuSans-53\"/>\n      </g>\n     </g>\n    </g>\n    <g id=\"ytick_5\">\n     <g id=\"line2d_13\">\n      <g>\n       <use style=\"stroke:#000000;stroke-width:0.8;\" x=\"36.465625\" xlink:href=\"#m9394d7b5a2\" y=\"115.647519\"/>\n      </g>\n     </g>\n     <g id=\"text_13\">\n      <!-- 10.0 -->\n      <g transform=\"translate(7.2 119.446738)scale(0.1 -0.1)\">\n       <defs>\n        <path d=\"M 12.40625 8.296875 \nL 28.515625 8.296875 \nL 28.515625 63.921875 \nL 10.984375 60.40625 \nL 10.984375 69.390625 \nL 28.421875 72.90625 \nL 38.28125 72.90625 \nL 38.28125 8.296875 \nL 54.390625 8.296875 \nL 54.390625 0 \nL 12.40625 0 \nz\n\" id=\"DejaVuSans-49\"/>\n       </defs>\n       <use xlink:href=\"#DejaVuSans-49\"/>\n       <use x=\"63.623047\" xlink:href=\"#DejaVuSans-48\"/>\n       <use x=\"127.246094\" xlink:href=\"#DejaVuSans-46\"/>\n       <use x=\"159.033203\" xlink:href=\"#DejaVuSans-48\"/>\n      </g>\n     </g>\n    </g>\n    <g id=\"ytick_6\">\n     <g id=\"line2d_14\">\n      <g>\n       <use style=\"stroke:#000000;stroke-width:0.8;\" x=\"36.465625\" xlink:href=\"#m9394d7b5a2\" y=\"88.399398\"/>\n      </g>\n     </g>\n     <g id=\"text_14\">\n      <!-- 12.5 -->\n      <g transform=\"translate(7.2 92.198617)scale(0.1 -0.1)\">\n       <use xlink:href=\"#DejaVuSans-49\"/>\n       <use x=\"63.623047\" xlink:href=\"#DejaVuSans-50\"/>\n       <use x=\"127.246094\" xlink:href=\"#DejaVuSans-46\"/>\n       <use x=\"159.033203\" xlink:href=\"#DejaVuSans-53\"/>\n      </g>\n     </g>\n    </g>\n    <g id=\"ytick_7\">\n     <g id=\"line2d_15\">\n      <g>\n       <use style=\"stroke:#000000;stroke-width:0.8;\" x=\"36.465625\" xlink:href=\"#m9394d7b5a2\" y=\"61.151278\"/>\n      </g>\n     </g>\n     <g id=\"text_15\">\n      <!-- 15.0 -->\n      <g transform=\"translate(7.2 64.950497)scale(0.1 -0.1)\">\n       <use xlink:href=\"#DejaVuSans-49\"/>\n       <use x=\"63.623047\" xlink:href=\"#DejaVuSans-53\"/>\n       <use x=\"127.246094\" xlink:href=\"#DejaVuSans-46\"/>\n       <use x=\"159.033203\" xlink:href=\"#DejaVuSans-48\"/>\n      </g>\n     </g>\n    </g>\n    <g id=\"ytick_8\">\n     <g id=\"line2d_16\">\n      <g>\n       <use style=\"stroke:#000000;stroke-width:0.8;\" x=\"36.465625\" xlink:href=\"#m9394d7b5a2\" y=\"33.903158\"/>\n      </g>\n     </g>\n     <g id=\"text_16\">\n      <!-- 17.5 -->\n      <g transform=\"translate(7.2 37.702377)scale(0.1 -0.1)\">\n       <use xlink:href=\"#DejaVuSans-49\"/>\n       <use x=\"63.623047\" xlink:href=\"#DejaVuSans-55\"/>\n       <use x=\"127.246094\" xlink:href=\"#DejaVuSans-46\"/>\n       <use x=\"159.033203\" xlink:href=\"#DejaVuSans-53\"/>\n      </g>\n     </g>\n    </g>\n   </g>\n   <g id=\"patch_13\">\n    <path d=\"M 36.465625 224.64 \nL 36.465625 7.2 \n\" style=\"fill:none;stroke:#000000;stroke-linecap:square;stroke-linejoin:miter;stroke-width:0.8;\"/>\n   </g>\n   <g id=\"patch_14\">\n    <path d=\"M 371.265625 224.64 \nL 371.265625 7.2 \n\" style=\"fill:none;stroke:#000000;stroke-linecap:square;stroke-linejoin:miter;stroke-width:0.8;\"/>\n   </g>\n   <g id=\"patch_15\">\n    <path d=\"M 36.465625 224.64 \nL 371.265625 224.64 \n\" style=\"fill:none;stroke:#000000;stroke-linecap:square;stroke-linejoin:miter;stroke-width:0.8;\"/>\n   </g>\n   <g id=\"patch_16\">\n    <path d=\"M 36.465625 7.2 \nL 371.265625 7.2 \n\" style=\"fill:none;stroke:#000000;stroke-linecap:square;stroke-linejoin:miter;stroke-width:0.8;\"/>\n   </g>\n  </g>\n </g>\n <defs>\n  <clipPath id=\"p9d222aab59\">\n   <rect height=\"217.44\" width=\"334.8\" x=\"36.465625\" y=\"7.2\"/>\n  </clipPath>\n </defs>\n</svg>\n",
      "text/plain": [
       "<Figure size 432x288 with 1 Axes>"
      ]
     },
     "metadata": {
      "needs_background": "light"
     },
     "output_type": "display_data"
    }
   ],
   "source": [
    "from matplotlib import pyplot as plt\n",
    "# preds = np.array(preds)[:,0,:]\n",
    "# max_preds = np.argmax(preds, axis=1)\n",
    "# preds = [model_tfp.predict(np.expand_dims(val_x['flats'][0], [0])) for i in range(100)]\n",
    "pred_0 = np.array([pred[i][0][0] for i in range(len(preds[0]))])\n",
    "plt.hist(pred_0, 10, facecolor='blue', alpha=0.5)\n",
    "\n",
    "# print(val_preds[1])\n",
    "# print(np.mean(np.argmax(val_preds, axis=1)==np.argmax(val_y, axis=1)))\n",
    "# preds = [preds[i][0][0] for i in range(len(preds))]\n",
    "# results = np.array(results)\n",
    "# plt.scatter(results[:,0], results[:,1])\n",
    "plt.show()"
   ]
  },
  {
   "cell_type": "code",
   "execution_count": 114,
   "metadata": {},
   "outputs": [
    {
     "name": "stdout",
     "output_type": "stream",
     "text": [
      "0.5333333333333333\n"
     ]
    }
   ],
   "source": [
    "    print(np.mean([np.mean(preds[i]).round() == val_y[i] for i in range(len(preds))]))"
   ]
  },
  {
   "cell_type": "code",
   "execution_count": 154,
   "metadata": {
    "tags": []
   },
   "outputs": [
    {
     "name": "stdout",
     "output_type": "stream",
     "text": [
      "1.0 0.78 1\n",
      "0.24 0.31 0\n",
      "0.06 0.72 -1\n",
      "0.0 0.39 -1\n",
      "0.29 0.5 -1\n",
      "0.73 0.43 0\n",
      "0.98 0.26 -1\n",
      "1.0 0.73 1\n",
      "1.0 0.19 -1\n",
      "0.21 0.11 -1\n"
     ]
    }
   ],
   "source": [
    "for i in range(len(preds)):\n",
    "    pred = scaler.inverse_transform(np.array(preds[i]))\n",
    "    result = 1 if val_y[i] > 0 else 0 if val_y[i] == 0 else -1\n",
    "    odds = val_odds[i]\n",
    "    print(len(pred[pred>0])/len(pred), round(odds[0],2), result)"
   ]
  },
  {
   "cell_type": "code",
   "execution_count": null,
   "metadata": {},
   "outputs": [],
   "source": []
  }
 ],
 "metadata": {
  "interpreter": {
   "hash": "aee8b7b246df8f9039afb4144a1f6fd8d2ca17a180786b69acc140d282b71a49"
  },
  "kernelspec": {
   "display_name": "Python 3.8.7 64-bit",
   "name": "python3"
  },
  "language_info": {
   "codemirror_mode": {
    "name": "ipython",
    "version": 3
   },
   "file_extension": ".py",
   "mimetype": "text/x-python",
   "name": "python",
   "nbconvert_exporter": "python",
   "pygments_lexer": "ipython3",
   "version": "3.8.7"
  },
  "orig_nbformat": 2
 },
 "nbformat": 4,
 "nbformat_minor": 2
}